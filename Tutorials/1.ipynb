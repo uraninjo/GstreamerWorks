{
 "cells": [
  {
   "cell_type": "code",
   "execution_count": null,
   "metadata": {},
   "outputs": [],
   "source": [
    "import sys, gi \n",
    "\n",
    "gi.require_version('GLib', '2.0')\n",
    "gi.require_version('GObject', '2.0')\n",
    "gi.require_version('Gst', '1.0')\n",
    "\n",
    "from gi.repository import Gst, GObject, GLib"
   ]
  },
  {
   "cell_type": "code",
   "execution_count": null,
   "metadata": {},
   "outputs": [],
   "source": [
    "Gst.init(sys.argv[1:])\n",
    "pipeline=Gst.parse_launch(\"playbin uri=https://www.freedesktop.org/software/gstreamer-sdk/data/media/sintel_trailer-480p.webm\")\n",
    "\n",
    "pipeline.set_state(Gst.State.PLAYING)\n",
    "\n",
    "bus=pipeline.get_bus()\n",
    "msg=bus.timed_pop_filtered(\n",
    "    Gst.CLOCK_TIME_NONE,\n",
    "    Gst.MessageType.ERROR | Gst.MessageType.EOS\n",
    ")\n",
    "\n",
    "pipeline.set_state(Gst.State.NULL) \n",
    "#Bunu koymayınca da çalışıyor fakat koy diye uyarı veriyor. Bazı uygulamalarda sıkıntı olabilirmiş...\n"
   ]
  },
  {
   "cell_type": "markdown",
   "metadata": {},
   "source": [
    "**Gelen Uyarı** : Trying to dispose element inputselector3, but it is in PLAYING instead of the NULL state.\n",
    "You need to explicitly set elements to the NULL state before\n",
    "dropping the final reference, to allow them to clean up.\n",
    "This problem may also be caused by a refcounting bug in the\n",
    "application or some element."
   ]
  },
  {
   "cell_type": "markdown",
   "metadata": {},
   "source": [
    "# Gst.init()\n",
    "\n",
    "This must always be your first GStreamer command. Among other things, Gst.init():\n",
    "\n",
    "Initializes all internal structures\n",
    "\n",
    "Checks what plug-ins are available\n",
    "\n",
    "Executes any command-line option intended for GStreamer\n",
    "\n",
    "\n",
    "If you always pass your command-line parameters argc and argv to Gst.init() your application will automatically benefit from the GStreamer standard command-line options"
   ]
  },
  {
   "cell_type": "markdown",
   "metadata": {},
   "source": [
    "# parse_launch ve playbin\n",
    "\n",
    "**playbin**  is a special element which acts as a source and as a sink, and is a whole pipeline. Internally, it creates and connects all the necessary elements to play your media, so you do not have to worry about it.\n",
    "\n",
    "In this example, we are only passing one parameter to playbin, which is the URI of the media we want to play. Try changing it to something else! Whether it is an http:// or file:// URI, playbin will instantiate the appropriate GStreamer source transparently!"
   ]
  },
  {
   "cell_type": "markdown",
   "metadata": {},
   "source": [
    "# Bus Mesajları\n",
    "\n",
    "Bus will wait until an error occurs or the end of the stream is found.\n",
    "\n",
    "get_bus : bus'ı alır\n",
    "\n",
    "timed_pop_filtered : ERROR veya EOS alanınca engeller."
   ]
  },
  {
   "cell_type": "markdown",
   "metadata": {},
   "source": []
  }
 ],
 "metadata": {
  "kernelspec": {
   "display_name": "Python 3.8.10 64-bit",
   "language": "python",
   "name": "python3"
  },
  "language_info": {
   "codemirror_mode": {
    "name": "ipython",
    "version": 3
   },
   "file_extension": ".py",
   "mimetype": "text/x-python",
   "name": "python",
   "nbconvert_exporter": "python",
   "pygments_lexer": "ipython3",
   "version": "3.8.10"
  },
  "orig_nbformat": 4,
  "vscode": {
   "interpreter": {
    "hash": "916dbcbb3f70747c44a77c7bcd40155683ae19c65e1c03b4aa3499c5328201f1"
   }
  }
 },
 "nbformat": 4,
 "nbformat_minor": 2
}
