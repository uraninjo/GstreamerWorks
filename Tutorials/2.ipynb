{
 "cells": [
  {
   "cell_type": "code",
   "execution_count": 2,
   "metadata": {},
   "outputs": [],
   "source": [
    "import sys\n",
    "import gi\n",
    "import logging\n",
    "\n",
    "gi.require_version(\"GLib\", \"2.0\")\n",
    "gi.require_version(\"GObject\", \"2.0\")\n",
    "gi.require_version(\"Gst\", \"1.0\")\n",
    "\n",
    "from gi.repository import Gst, GLib, GObject\n",
    "\n",
    "logging.basicConfig(level=logging.DEBUG, format=\"[%(name)s] [%(levelname)8s] - %(message)s\")\n",
    "logger = logging.getLogger(__name__)"
   ]
  },
  {
   "cell_type": "code",
   "execution_count": 5,
   "metadata": {},
   "outputs": [
    {
     "data": {
      "text/plain": [
       "<Logger __main__ (DEBUG)>"
      ]
     },
     "execution_count": 5,
     "metadata": {},
     "output_type": "execute_result"
    }
   ],
   "source": [
    "logging.DEBUG #10\n",
    "logger #Hataları vs. yazdırmaya yarıyor"
   ]
  },
  {
   "cell_type": "code",
   "execution_count": 14,
   "metadata": {},
   "outputs": [
    {
     "name": "stderr",
     "output_type": "stream",
     "text": [
      "[__main__] [    INFO] - Bağlandı\n",
      "[__main__] [   ERROR] - Error received from element sink-actual-sink-xvimage: Output window was closed\n",
      "[__main__] [   ERROR] - Debugging information: xvimagesink.c(554): gst_xv_image_sink_handle_xevents (): /GstPipeline:test-pipeline/GstAutoVideoSink:sink/GstXvImageSink:sink-actual-sink-xvimage\n"
     ]
    },
    {
     "name": "stdout",
     "output_type": "stream",
     "text": [
      "<Gst.Message object at 0x7f88001ff6a0 (GstMessage at 0x7f87c8002ac0)>\n"
     ]
    },
    {
     "data": {
      "text/plain": [
       "<enum GST_STATE_CHANGE_SUCCESS of type Gst.StateChangeReturn>"
      ]
     },
     "execution_count": 14,
     "metadata": {},
     "output_type": "execute_result"
    }
   ],
   "source": [
    "Gst.init(sys.argv[1:])\n",
    "\n",
    "source=Gst.ElementFactory.make('videotestsrc','source')\n",
    "sink=Gst.ElementFactory.make('autovideosink','sink')\n",
    "\n",
    "pipeline=Gst.Pipeline.new('test-pipeline')\n",
    "\n",
    "if not source or not sink or not pipeline:\n",
    "    logger.error('Elementlerde sıkıntı var...')\n",
    "    sys.exit(1)\n",
    "\n",
    "pipeline.add(source)\n",
    "pipeline.add(sink)\n",
    "\n",
    "if source.link(sink):\n",
    "    logger.info('Bağlandı')\n",
    "\n",
    "source.set_property('pattern', 2) #source.props.pattern = 0\n",
    "\n",
    "ret=pipeline.set_state(Gst.State.PLAYING)\n",
    "\n",
    "if ret==Gst.StateChangeReturn.FAILURE:\n",
    "    logger.error(\"pipeline'da sıkıntı var\")\n",
    "    sys.exit(1)\n",
    "\n",
    "bus = pipeline.get_bus()\n",
    "msg = bus.timed_pop_filtered(\n",
    "    Gst.CLOCK_TIME_NONE, \n",
    "    Gst.MessageType.ERROR | Gst.MessageType.EOS)\n",
    "\n",
    "if msg:\n",
    "    if msg.type == Gst.MessageType.ERROR:\n",
    "        err, debug_info = msg.parse_error()\n",
    "        logger.error(f\"Error received from element {msg.src.get_name()}: {err.message}\")\n",
    "        logger.error(f\"Debugging information: {debug_info if debug_info else 'none'}\")\n",
    "\n",
    "    elif msg.type == Gst.MessageType.EOS:\n",
    "        logger.info(\"End-Of-Stream reached.\")\n",
    "\n",
    "    else:\n",
    "        # This should not happen as we only asked for ERRORs and EOS\n",
    "        logger.error(\"Unexpected message received.\")\n",
    "\n",
    "pipeline.set_state(Gst.State.NULL)"
   ]
  },
  {
   "cell_type": "code",
   "execution_count": 11,
   "metadata": {},
   "outputs": [
    {
     "data": {
      "text/plain": [
       "<enum SMPTE 100% color bars of type __main__.GstVideoTestSrcPattern>"
      ]
     },
     "execution_count": 11,
     "metadata": {},
     "output_type": "execute_result"
    }
   ],
   "source": [
    "source.get_property('pattern') # değiştirip çalıştırınca değişik görüntüler çıkıyor"
   ]
  },
  {
   "cell_type": "markdown",
   "metadata": {},
   "source": [
    "# Açıklamalar\n",
    "\n",
    "All elements in GStreamer must typically be contained inside a pipeline before they can be used, because it takes care of some clocking and messaging functions. We create the pipeline with Gst.Pipeline.new().\n",
    "\n",
    "A pipeline is a particular type of Gst.Bin, which is the element used to contain other elements. Therefore all methods which apply to bins also apply to pipelines.\n",
    "\n",
    "n our case, we call Gst.Bin.add() to add elements to the pipeline. The function accepts any number of Gst Elements as its arguments\n",
    "\n",
    "These elements, however, are not linked with each other yet. For this, we need to use Gst.Element.link(). Its first parameter is the source, and the second one the destination. The order counts, because links must be established following the data flow (this is, from source elements to sink elements). Keep in mind that only elements residing in the same bin can be linked together, so remember to add them to the pipeline before trying to link them!\n",
    "\n",
    "GStreamer bus: It is the object responsible for delivering to the application the Gst.Messages generated by the elements, in order and to the application thread. This last point is important, because the actual streaming of media is done in another thread than the application.\n",
    "\n"
   ]
  },
  {
   "cell_type": "markdown",
   "metadata": {},
   "source": [
    "# Alıştırma\n",
    "\n",
    "If you feel like practicing, try this exercise: Add a video filter element in between the source and the sink of this pipeline. Use vertigotv for a nice effect. You will need to create it, add it to the pipeline, and link it with the other elements.\n",
    "\n",
    "Depending on your platform and available plugins, you might get a “negotiation” error, because the sink does not understand what the filter is producing..."
   ]
  },
  {
   "cell_type": "code",
   "execution_count": 5,
   "metadata": {},
   "outputs": [
    {
     "name": "stderr",
     "output_type": "stream",
     "text": [
      "[__main__] [   ERROR] - Error received from element sink-actual-sink-xvimage: Output window was closed\n",
      "[__main__] [   ERROR] - Debugging information: xvimagesink.c(554): gst_xv_image_sink_handle_xevents (): /GstPipeline:exerc/GstAutoVideoSink:sink/GstXvImageSink:sink-actual-sink-xvimage\n"
     ]
    },
    {
     "data": {
      "text/plain": [
       "<enum GST_STATE_CHANGE_SUCCESS of type Gst.StateChangeReturn>"
      ]
     },
     "execution_count": 5,
     "metadata": {},
     "output_type": "execute_result"
    }
   ],
   "source": [
    "import sys\n",
    "import gi\n",
    "import logging\n",
    "\n",
    "gi.require_version(\"GLib\", \"2.0\")\n",
    "gi.require_version(\"GObject\", \"2.0\")\n",
    "gi.require_version(\"Gst\", \"1.0\")\n",
    "\n",
    "from gi.repository import Gst, GLib, GObject\n",
    "\n",
    "logging.basicConfig(level=logging.DEBUG, format=\"[%(name)s] [%(levelname)8s] - %(message)s\")\n",
    "logger = logging.getLogger(__name__)\n",
    "\n",
    "Gst.init(sys.argv[1:])\n",
    "\n",
    "pipeline2=Gst.Pipeline.new('exerc')\n",
    "\n",
    "source=Gst.ElementFactory.make('videotestsrc','source')\n",
    "vertigotv=Gst.ElementFactory.make('vertigotv','vertigo')\n",
    "convert=Gst.ElementFactory.make('videoconvert','convert')\n",
    "sink=Gst.ElementFactory.make('autovideosink','sink')\n",
    "\n",
    "pipeline2.add(source)\n",
    "pipeline2.add(vertigotv)\n",
    "pipeline2.add(convert)\n",
    "pipeline2.add(sink)\n",
    "\n",
    "source.link(vertigotv)\n",
    "vertigotv.link(convert)\n",
    "convert.link(sink)\n",
    "\n",
    "ret=pipeline2.set_state(Gst.State.PLAYING)\n",
    "if ret==Gst.StateChangeReturn.FAILURE:\n",
    "    logger.error(\"pipeline'da sıkıntı var\")\n",
    "    sys.exit(1)\n",
    "\n",
    "bus=pipeline2.get_bus()\n",
    "msg=bus.timed_pop_filtered(\n",
    "    Gst.CLOCK_TIME_NONE,\n",
    "    Gst.MessageType.ERROR | Gst.MessageType.EOS)\n",
    "\n",
    "\n",
    "if msg:\n",
    "    if msg.type == Gst.MessageType.ERROR:\n",
    "        err, debug_info = msg.parse_error()\n",
    "        logger.error(f\"Error received from element {msg.src.get_name()}: {err.message}\")\n",
    "        logger.error(f\"Debugging information: {debug_info if debug_info else 'none'}\")\n",
    "\n",
    "    elif msg.type == Gst.MessageType.EOS:\n",
    "        logger.info(\"End-Of-Stream reached.\")\n",
    "\n",
    "    else:\n",
    "        # This should not happen as we only asked for ERRORs and EOS\n",
    "        logger.error(\"Unexpected message received.\")\n",
    "\n",
    "pipeline2.set_state(Gst.State.NULL)\n"
   ]
  }
 ],
 "metadata": {
  "kernelspec": {
   "display_name": "Python 3.8.10 64-bit",
   "language": "python",
   "name": "python3"
  },
  "language_info": {
   "codemirror_mode": {
    "name": "ipython",
    "version": 3
   },
   "file_extension": ".py",
   "mimetype": "text/x-python",
   "name": "python",
   "nbconvert_exporter": "python",
   "pygments_lexer": "ipython3",
   "version": "3.8.10"
  },
  "orig_nbformat": 4,
  "vscode": {
   "interpreter": {
    "hash": "916dbcbb3f70747c44a77c7bcd40155683ae19c65e1c03b4aa3499c5328201f1"
   }
  }
 },
 "nbformat": 4,
 "nbformat_minor": 2
}
