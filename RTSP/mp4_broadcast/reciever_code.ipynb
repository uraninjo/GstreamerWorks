{
 "cells": [
  {
   "cell_type": "code",
   "execution_count": 1,
   "metadata": {},
   "outputs": [
    {
     "name": "stdout",
     "output_type": "stream",
     "text": [
      "In cb_newpad\n",
      "\n",
      "gstname= application/x-rtp\n",
      "features= <Gst.CapsFeatures object at 0x7fa801c29520 (GstCapsFeatures at 0x7fa7b0003f40)>\n"
     ]
    },
    {
     "name": "stderr",
     "output_type": "stream",
     "text": [
      "Failed to link decoder src pad to source bin ghost pad\n",
      "ERROR:__main__:Error received from element sink: Output window was closed\n",
      "ERROR:__main__:Debugging information: xvimagesink.c(554): gst_xv_image_sink_handle_xevents (): /GstPipeline:test-pipeline/GstXvImageSink:sink\n"
     ]
    },
    {
     "data": {
      "text/plain": [
       "<enum GST_STATE_CHANGE_SUCCESS of type Gst.StateChangeReturn>"
      ]
     },
     "execution_count": 1,
     "metadata": {},
     "output_type": "execute_result"
    }
   ],
   "source": [
    "import sys\n",
    "import gi\n",
    "import logging\n",
    "\n",
    "gi.require_version(\"GLib\", \"2.0\")\n",
    "gi.require_version(\"GObject\", \"2.0\")\n",
    "gi.require_version(\"Gst\", \"1.0\")\n",
    "\n",
    "from gi.repository import Gst, GLib, GObject\n",
    "\n",
    "uri_name='rtsp://127.0.0.1:8554/test'\n",
    "\n",
    "def cb_newpad(demux, src, sink):\n",
    "    print(\"In cb_newpad\\n\")\n",
    "    caps=src.get_current_caps()\n",
    "    gststruct=caps.get_structure(0)\n",
    "    gstname=gststruct.get_name()\n",
    "    features=caps.get_features(0)\n",
    "\n",
    "    print(\"gstname=\",gstname)\n",
    "    if(gstname.find(\"application\")!=-1):\n",
    "        print(\"features=\",features)\n",
    "        sink_pad=sink.get_static_pad(\"sink\")\n",
    "\n",
    "        if not src.link(sink_pad):\n",
    "            sys.stderr.write(\"Failed to link decoder src pad to source bin ghost pad\\n\")\n",
    "\n",
    "\n",
    "\n",
    "logging.basicConfig(level=logging.DEBUG, format=\"[%(name)s] [%(levelname)8s] - %(message)s\")\n",
    "logger = logging.getLogger(__name__)\n",
    "\n",
    "Gst.init(None)\n",
    "\n",
    "pipeline=Gst.Pipeline.new('test-pipeline')\n",
    "\n",
    "source=Gst.ElementFactory.make('rtspsrc','source')\n",
    "source.set_property('location', uri_name)\n",
    "\n",
    "depay=Gst.ElementFactory.make(\"rtph264depay\", \"depay\")\n",
    "\n",
    "source.connect('pad-added', cb_newpad, depay)\n",
    "\n",
    "\n",
    "decoder=Gst.ElementFactory.make('avdec_h264','decoder')\n",
    "sink=Gst.ElementFactory.make('xvimagesink','sink')\n",
    "\n",
    "pipeline.add(source)\n",
    "pipeline.add(depay)\n",
    "pipeline.add(decoder)\n",
    "pipeline.add(sink)\n",
    "\n",
    "\n",
    "\n",
    "if depay.link(decoder):\n",
    "    logger.info('depay-decoder Bağlandı')\n",
    "if decoder.link(sink):\n",
    "    logger.info('decoder-sink Bağlandı')\n",
    "\n",
    "ret=pipeline.set_state(Gst.State.PLAYING)\n",
    "\n",
    "if ret==Gst.StateChangeReturn.FAILURE:\n",
    "    logger.error(\"pipeline'da sıkıntı var\")\n",
    "    sys.exit(1)\n",
    "\n",
    "bus = pipeline.get_bus()\n",
    "msg = bus.timed_pop_filtered(\n",
    "    Gst.CLOCK_TIME_NONE, \n",
    "    Gst.MessageType.ERROR | Gst.MessageType.EOS)\n",
    "\n",
    "if msg:\n",
    "    if msg.type == Gst.MessageType.ERROR:\n",
    "        err, debug_info = msg.parse_error()\n",
    "        logger.error(f\"Error received from element {msg.src.get_name()}: {err.message}\")\n",
    "        logger.error(f\"Debugging information: {debug_info if debug_info else 'none'}\")\n",
    "\n",
    "    elif msg.type == Gst.MessageType.EOS:\n",
    "        logger.info(\"End-Of-Stream reached.\")\n",
    "\n",
    "    else:\n",
    "        # This should not happen as we only asked for ERRORs and EOS\n",
    "        logger.error(\"Unexpected message received.\")\n",
    "\n",
    "pipeline.set_state(Gst.State.NULL)"
   ]
  },
  {
   "cell_type": "code",
   "execution_count": null,
   "metadata": {},
   "outputs": [],
   "source": []
  }
 ],
 "metadata": {
  "kernelspec": {
   "display_name": "Python 3.8.10 64-bit",
   "language": "python",
   "name": "python3"
  },
  "language_info": {
   "codemirror_mode": {
    "name": "ipython",
    "version": 3
   },
   "file_extension": ".py",
   "mimetype": "text/x-python",
   "name": "python",
   "nbconvert_exporter": "python",
   "pygments_lexer": "ipython3",
   "version": "3.8.10"
  },
  "orig_nbformat": 4,
  "vscode": {
   "interpreter": {
    "hash": "916dbcbb3f70747c44a77c7bcd40155683ae19c65e1c03b4aa3499c5328201f1"
   }
  }
 },
 "nbformat": 4,
 "nbformat_minor": 2
}
