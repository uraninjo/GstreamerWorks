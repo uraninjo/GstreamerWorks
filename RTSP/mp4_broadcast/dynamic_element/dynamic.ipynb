{
 "cells": [
  {
   "cell_type": "code",
   "execution_count": 2,
   "metadata": {},
   "outputs": [
    {
     "name": "stdout",
     "output_type": "stream",
     "text": [
      "In cb_newpad\n",
      "\n",
      "gstname= audio/mpeg\n",
      "In cb_newpad\n",
      "\n",
      "gstname= video/x-h264\n",
      "features= <Gst.CapsFeatures object at 0x7f08c8470b20 (GstCapsFeatures at 0x332d920)>\n"
     ]
    },
    {
     "name": "stderr",
     "output_type": "stream",
     "text": [
      "Failed to link decoder src pad to source bin ghost pad\n"
     ]
    }
   ],
   "source": [
    "import sys\n",
    "import gi\n",
    "import logging\n",
    "\n",
    "gi.require_version(\"GLib\", \"2.0\")\n",
    "gi.require_version(\"GObject\", \"2.0\")\n",
    "gi.require_version(\"Gst\", \"1.0\")\n",
    "\n",
    "from gi.repository import Gst, GLib, GObject\n",
    "\n",
    "uri_name='rtsp://127.0.0.1:8554/test'\n",
    "file='/home/fkurt/Murat/ElephantsDream.mp4'\n",
    "\n",
    "def cb_newpad(demux, src, sink):\n",
    "    print(\"In cb_newpad\\n\")\n",
    "    caps=src.get_current_caps()\n",
    "    gststruct=caps.get_structure(0)\n",
    "    gstname=gststruct.get_name()\n",
    "    features=caps.get_features(0)\n",
    "\n",
    "    print(\"gstname=\",gstname)\n",
    "    if(gstname.find(\"video\")!=-1):\n",
    "        print(\"features=\",features)\n",
    "        sink_pad=sink.get_static_pad(\"sink\")\n",
    "        if not src.link(sink_pad):\n",
    "            sys.stderr.write(\"Failed to link decoder src pad to source bin ghost pad\\n\")\n",
    "\n",
    "\n",
    "logging.basicConfig(level=logging.DEBUG, format=\"[%(name)s] [%(levelname)8s] - %(message)s\")\n",
    "logger = logging.getLogger(__name__)\n",
    "\n",
    "Gst.init(None)\n",
    "\n",
    "pipeline=Gst.Pipeline.new('test-pipeline')\n",
    "\n",
    "source=Gst.ElementFactory.make('filesrc','source')\n",
    "source.set_property('location', file)\n",
    "\n",
    "demux=Gst.ElementFactory.make(\"qtdemux\", \"demux\")\n",
    "if not demux:\n",
    "    sys.stderr.write(\" Unable to create demux \\n\")\n",
    "decoder=Gst.ElementFactory.make('avdec_h264','decoder')\n",
    "demux.connect(\"pad-added\", cb_newpad, decoder)\n",
    "\n",
    "videoconvert=Gst.ElementFactory.make('videoconvert','convert')\n",
    "x264enc=Gst.ElementFactory.make('x264enc','encoder')\n",
    "\n",
    "sink=Gst.ElementFactory.make('rtspclientsink','sink')\n",
    "if not sink:\n",
    "    sys.stderr.write(\" Unable to create udpsink\")\n",
    "sink.set_property(\"location\", uri_name)\n",
    "\n",
    "if not sink or not decoder or not videoconvert or not x264enc or not pipeline:\n",
    "    logger.error('Elementlerde sıkıntı var...')\n",
    "    sys.exit(1)\n",
    "\n",
    "pipeline.add(source)\n",
    "pipeline.add(demux)\n",
    "pipeline.add(decoder)\n",
    "pipeline.add(videoconvert)\n",
    "pipeline.add(x264enc)\n",
    "pipeline.add(sink)\n",
    "\n",
    "if source.link(demux):\n",
    "    logger.info('src-demux Bağlandı')\n",
    "\n",
    "\n",
    "if decoder.link(videoconvert):\n",
    "    logger.info('decoder-videoconvert Bağlandı')\n",
    "if videoconvert.link(x264enc):\n",
    "    logger.info('videoconvert-x264enc Bağlandı')\n",
    "if x264enc.link(sink):\n",
    "    logger.info('x264enc-sink Bağlandı')\n",
    "\n",
    "ret=pipeline.set_state(Gst.State.PLAYING)\n",
    "\n",
    "if ret==Gst.StateChangeReturn.FAILURE:\n",
    "    logger.error(\"pipeline'da sıkıntı var\")\n",
    "    sys.exit(1)\n",
    "\n",
    "bus = pipeline.get_bus()\n",
    "msg = bus.timed_pop_filtered(\n",
    "    Gst.CLOCK_TIME_NONE, \n",
    "    Gst.MessageType.ERROR | Gst.MessageType.EOS)\n",
    "\n",
    "if msg:\n",
    "    if msg.type == Gst.MessageType.ERROR:\n",
    "        err, debug_info = msg.parse_error()\n",
    "        logger.error(f\"Error received from element {msg.src.get_name()}: {err.message}\")\n",
    "        logger.error(f\"Debugging information: {debug_info if debug_info else 'none'}\")\n",
    "\n",
    "    elif msg.type == Gst.MessageType.EOS:\n",
    "        logger.info(\"End-Of-Stream reached.\")\n",
    "\n",
    "    else:\n",
    "        # This should not happen as we only asked for ERRORs and EOS\n",
    "        logger.error(\"Unexpected message received.\")\n",
    "\n",
    "pipeline.set_state(Gst.State.NULL)"
   ]
  },
  {
   "cell_type": "code",
   "execution_count": null,
   "metadata": {},
   "outputs": [],
   "source": []
  }
 ],
 "metadata": {
  "kernelspec": {
   "display_name": "Python 3",
   "language": "python",
   "name": "python3"
  },
  "language_info": {
   "codemirror_mode": {
    "name": "ipython",
    "version": 3
   },
   "file_extension": ".py",
   "mimetype": "text/x-python",
   "name": "python",
   "nbconvert_exporter": "python",
   "pygments_lexer": "ipython3",
   "version": "3.8.10"
  },
  "orig_nbformat": 4,
  "vscode": {
   "interpreter": {
    "hash": "916dbcbb3f70747c44a77c7bcd40155683ae19c65e1c03b4aa3499c5328201f1"
   }
  }
 },
 "nbformat": 4,
 "nbformat_minor": 2
}
