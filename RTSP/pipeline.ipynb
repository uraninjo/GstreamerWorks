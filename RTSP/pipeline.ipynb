{
 "cells": [
  {
   "cell_type": "markdown",
   "metadata": {},
   "source": [
    "### Sender: \n",
    "gst-launch-1.0 -v filesrc location = /opt/nvidia/deepstream/deepstream-6.1/samples/streams/sample_720p.mp4 ! decodebin ! autovideoconvert ! x264enc ! rtspclientsink location=rtsp://127.0.0.1:8554/test \n",
    "\n",
    "\n",
    "\n",
    "### Recievers: \n",
    "gst-launch-1.0 -v rtspsrc location=rtsp://127.0.0.1:8554/test  caps=\"application/x-rtp,media=video,clock-rate=90000,payload=96\" ! rtph264depay ! avdec_h264 ! decodebin ! videoconvert ! xvimagesink \n",
    "\n",
    "gst-launch-1.0 -v playbin uri=rtsp://127.0.0.1:8554/test uridecodebin0::source::latency=300 \n",
    "\n",
    "gst-launch-1.0 rtspsrc location=rtsp://127.0.0.1:8554/test caps=\"application/x-rtp,media=video,clock-rate=90000,payload=96\" ! rtph264depay ! avdec_h264 ! autovideosink "
   ]
  },
  {
   "cell_type": "markdown",
   "metadata": {},
   "source": [
    "### Custom Decoder:\n",
    "\n",
    "gst-launch-1.0 -v filesrc location = /opt/nvidia/deepstream/deepstream-6.1/samples/streams/sample_720p.mp4 ! qtdemux ! avdec_h264 ! videoconvert ! x264enc ! rtspclientsink location=rtsp://127.0.0.1:8554/test "
   ]
  },
  {
   "cell_type": "markdown",
   "metadata": {},
   "source": []
  }
 ],
 "metadata": {
  "kernelspec": {
   "display_name": "Python 3.8.10 64-bit",
   "language": "python",
   "name": "python3"
  },
  "language_info": {
   "name": "python",
   "version": "3.8.10"
  },
  "orig_nbformat": 4,
  "vscode": {
   "interpreter": {
    "hash": "916dbcbb3f70747c44a77c7bcd40155683ae19c65e1c03b4aa3499c5328201f1"
   }
  }
 },
 "nbformat": 4,
 "nbformat_minor": 2
}
