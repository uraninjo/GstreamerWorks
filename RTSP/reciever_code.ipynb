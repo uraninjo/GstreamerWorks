{
 "cells": [
  {
   "cell_type": "code",
   "execution_count": 6,
   "metadata": {},
   "outputs": [
    {
     "name": "stderr",
     "output_type": "stream",
     "text": [
      "\n",
      "(python3:13092): GStreamer-WARNING **: 11:32:01.818: Trying to link elements depay and decoder that don't share a common ancestor: depay hasn't been added to a bin or pipeline, but decoder is in test-pipeline\n",
      "\n",
      "(python3:13092): GStreamer-WARNING **: 11:32:01.818: Trying to link elements depay and decoder that don't share a common ancestor: depay hasn't been added to a bin or pipeline, but decoder is in test-pipeline\n",
      "[__main__] [    INFO] - x264enc-sink Bağlandı\n",
      "[__main__] [   ERROR] - Error received from element source: Could not open resource for reading.\n",
      "[__main__] [   ERROR] - Debugging information: gstrtspsrc.c(6232): gst_rtspsrc_setup_auth (): /GstPipeline:test-pipeline/GstRTSPSrc:source:\n",
      "No supported authentication protocol was found\n"
     ]
    },
    {
     "data": {
      "text/plain": [
       "<enum GST_STATE_CHANGE_SUCCESS of type Gst.StateChangeReturn>"
      ]
     },
     "execution_count": 6,
     "metadata": {},
     "output_type": "execute_result"
    }
   ],
   "source": [
    "import sys\n",
    "import gi\n",
    "import logging\n",
    "\n",
    "gi.require_version(\"GLib\", \"2.0\")\n",
    "gi.require_version(\"GObject\", \"2.0\")\n",
    "gi.require_version(\"Gst\", \"1.0\")\n",
    "\n",
    "from gi.repository import Gst, GLib, GObject\n",
    "\n",
    "uri_name='rtsp://127.0.0.1:8554/test'\n",
    "\n",
    "\n",
    "def on_pad_added(element, element_src_pad, data):\n",
    "    #https://github.com/1095788063/deepstream-python-rtsp-video-h264-gstreamer/blob/main/deepstream_rtsp_h264.py\n",
    "    print(\"In cb_newpad\\n\")\n",
    "    caps = element_src_pad.get_current_caps()\n",
    "    str = caps.get_structure(0)\n",
    "    name = str.get_name()\n",
    "    depay_elem = data\n",
    "\n",
    "    media = str.get_string(\"media\")\n",
    "    is_video = media == 'video'\n",
    "    if 'x-rtp' in name and is_video is True:\n",
    "        sinkpad = depay_elem.get_static_pad(\"sink\")\n",
    "        \n",
    "        state = element_src_pad.link(sinkpad)\n",
    "        if state != Gst.PadLinkReturn.OK:\n",
    "            print('source-depay bağlandı')\n",
    "        else:\n",
    "            print('Bağlantı sağlanamadı')\n",
    "    else:\n",
    "        print('get_name=', name, ' , media=', media)\n",
    "\n",
    "\n",
    "logging.basicConfig(level=logging.DEBUG, format=\"[%(name)s] [%(levelname)8s] - %(message)s\")\n",
    "logger = logging.getLogger(__name__)\n",
    "\n",
    "Gst.init(None)\n",
    "\n",
    "pipeline=Gst.Pipeline.new('test-pipeline')\n",
    "\n",
    "source=Gst.ElementFactory.make('rtspsrc','source')\n",
    "source.set_property('location', uri_name)\n",
    "\n",
    "depay=Gst.ElementFactory.make(\"rtph264depay\", \"depay\")\n",
    "\n",
    "source.connect('pad-added', on_pad_added, depay)\n",
    "\n",
    "\n",
    "decoder=Gst.ElementFactory.make('avdec_h264','decoder')\n",
    "sink=Gst.ElementFactory.make('xvimagesink','sink')\n",
    "\n",
    "\n",
    "pipeline.add(source)\n",
    "pipeline.add(decoder)\n",
    "pipeline.add(sink)\n",
    "\n",
    "\n",
    "if depay.link(decoder):\n",
    "    logger.info('videoconvert-x264enc Bağlandı')\n",
    "if decoder.link(sink):\n",
    "    logger.info('x264enc-sink Bağlandı')\n",
    "\n",
    "ret=pipeline.set_state(Gst.State.PLAYING)\n",
    "\n",
    "if ret==Gst.StateChangeReturn.FAILURE:\n",
    "    logger.error(\"pipeline'da sıkıntı var\")\n",
    "    sys.exit(1)\n",
    "\n",
    "bus = pipeline.get_bus()\n",
    "msg = bus.timed_pop_filtered(\n",
    "    Gst.CLOCK_TIME_NONE, \n",
    "    Gst.MessageType.ERROR | Gst.MessageType.EOS)\n",
    "\n",
    "if msg:\n",
    "    if msg.type == Gst.MessageType.ERROR:\n",
    "        err, debug_info = msg.parse_error()\n",
    "        logger.error(f\"Error received from element {msg.src.get_name()}: {err.message}\")\n",
    "        logger.error(f\"Debugging information: {debug_info if debug_info else 'none'}\")\n",
    "\n",
    "    elif msg.type == Gst.MessageType.EOS:\n",
    "        logger.info(\"End-Of-Stream reached.\")\n",
    "\n",
    "    else:\n",
    "        # This should not happen as we only asked for ERRORs and EOS\n",
    "        logger.error(\"Unexpected message received.\")\n",
    "\n",
    "pipeline.set_state(Gst.State.NULL)"
   ]
  },
  {
   "cell_type": "code",
   "execution_count": null,
   "metadata": {},
   "outputs": [],
   "source": []
  }
 ],
 "metadata": {
  "kernelspec": {
   "display_name": "Python 3.8.10 64-bit",
   "language": "python",
   "name": "python3"
  },
  "language_info": {
   "codemirror_mode": {
    "name": "ipython",
    "version": 3
   },
   "file_extension": ".py",
   "mimetype": "text/x-python",
   "name": "python",
   "nbconvert_exporter": "python",
   "pygments_lexer": "ipython3",
   "version": "3.8.10"
  },
  "orig_nbformat": 4,
  "vscode": {
   "interpreter": {
    "hash": "916dbcbb3f70747c44a77c7bcd40155683ae19c65e1c03b4aa3499c5328201f1"
   }
  }
 },
 "nbformat": 4,
 "nbformat_minor": 2
}
