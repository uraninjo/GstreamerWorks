{
 "cells": [
  {
   "cell_type": "code",
   "execution_count": 32,
   "metadata": {},
   "outputs": [],
   "source": [
    "import os\n",
    "import psutil,time\n",
    "import pandas as pd\n",
    "import nvidia_smi\n",
    "df=pd.DataFrame(columns=['RAM_Usage(%)','RAM_Usage(GB)','CPU_Mean_Usage(%)','GPU_Usage(GB)'])"
   ]
  },
  {
   "cell_type": "code",
   "execution_count": 33,
   "metadata": {},
   "outputs": [],
   "source": [
    "for i in range(10):\n",
    "    load1, load5, load15 = psutil.getloadavg()\n",
    "    total_memory, used_memory, free_memory = map(int, os.popen('free -t -m').readlines()[-1].split()[1:])\n",
    "    \n",
    "    cpu_usage = round((load15/os.cpu_count()) * 100, 2)\n",
    "    ram_usage=round((used_memory/total_memory) * 100, 2)\n",
    "    ram_usage_gb=round(psutil.virtual_memory()[3]/1000000000,2)\n",
    "\n",
    "    nvidia_smi.nvmlInit()\n",
    "    deviceCount = nvidia_smi.nvmlDeviceGetCount()\n",
    "    for i in range(deviceCount):\n",
    "        handle = nvidia_smi.nvmlDeviceGetHandleByIndex(i)\n",
    "        info = nvidia_smi.nvmlDeviceGetMemoryInfo(handle)\n",
    "        info = round(info.used/(1024*1024*1024),2)\n",
    "    nvidia_smi.nvmlShutdown()\n",
    "    df.loc[len(df)]=[ram_usage,ram_usage_gb,cpu_usage,info]\n",
    "    time.sleep(2)"
   ]
  },
  {
   "cell_type": "code",
   "execution_count": 34,
   "metadata": {},
   "outputs": [
    {
     "data": {
      "text/html": [
       "<div>\n",
       "<style scoped>\n",
       "    .dataframe tbody tr th:only-of-type {\n",
       "        vertical-align: middle;\n",
       "    }\n",
       "\n",
       "    .dataframe tbody tr th {\n",
       "        vertical-align: top;\n",
       "    }\n",
       "\n",
       "    .dataframe thead th {\n",
       "        text-align: right;\n",
       "    }\n",
       "</style>\n",
       "<table border=\"1\" class=\"dataframe\">\n",
       "  <thead>\n",
       "    <tr style=\"text-align: right;\">\n",
       "      <th></th>\n",
       "      <th>RAM_Usage(%)</th>\n",
       "      <th>RAM_Usage(GB)</th>\n",
       "      <th>CPU_Mean_Usage(%)</th>\n",
       "      <th>GPU_Usage(GB)</th>\n",
       "    </tr>\n",
       "  </thead>\n",
       "  <tbody>\n",
       "    <tr>\n",
       "      <th>0</th>\n",
       "      <td>13.97</td>\n",
       "      <td>4.99</td>\n",
       "      <td>86.0625</td>\n",
       "      <td>0.368347</td>\n",
       "    </tr>\n",
       "    <tr>\n",
       "      <th>1</th>\n",
       "      <td>13.91</td>\n",
       "      <td>4.97</td>\n",
       "      <td>86.0625</td>\n",
       "      <td>0.376953</td>\n",
       "    </tr>\n",
       "    <tr>\n",
       "      <th>2</th>\n",
       "      <td>13.90</td>\n",
       "      <td>4.96</td>\n",
       "      <td>86.0625</td>\n",
       "      <td>0.377991</td>\n",
       "    </tr>\n",
       "    <tr>\n",
       "      <th>3</th>\n",
       "      <td>13.96</td>\n",
       "      <td>4.98</td>\n",
       "      <td>86.0000</td>\n",
       "      <td>0.365784</td>\n",
       "    </tr>\n",
       "    <tr>\n",
       "      <th>4</th>\n",
       "      <td>13.98</td>\n",
       "      <td>4.99</td>\n",
       "      <td>86.0000</td>\n",
       "      <td>0.388855</td>\n",
       "    </tr>\n",
       "    <tr>\n",
       "      <th>5</th>\n",
       "      <td>14.02</td>\n",
       "      <td>5.00</td>\n",
       "      <td>86.0000</td>\n",
       "      <td>0.376038</td>\n",
       "    </tr>\n",
       "    <tr>\n",
       "      <th>6</th>\n",
       "      <td>14.03</td>\n",
       "      <td>5.01</td>\n",
       "      <td>85.8125</td>\n",
       "      <td>0.376038</td>\n",
       "    </tr>\n",
       "    <tr>\n",
       "      <th>7</th>\n",
       "      <td>14.04</td>\n",
       "      <td>5.01</td>\n",
       "      <td>85.8125</td>\n",
       "      <td>0.370117</td>\n",
       "    </tr>\n",
       "    <tr>\n",
       "      <th>8</th>\n",
       "      <td>14.07</td>\n",
       "      <td>5.02</td>\n",
       "      <td>85.9375</td>\n",
       "      <td>0.332458</td>\n",
       "    </tr>\n",
       "    <tr>\n",
       "      <th>9</th>\n",
       "      <td>13.99</td>\n",
       "      <td>5.00</td>\n",
       "      <td>85.9375</td>\n",
       "      <td>0.332458</td>\n",
       "    </tr>\n",
       "  </tbody>\n",
       "</table>\n",
       "</div>"
      ],
      "text/plain": [
       "   RAM_Usage(%)  RAM_Usage(GB)  CPU_Mean_Usage(%)  GPU_Usage(GB)\n",
       "0         13.97           4.99            86.0625       0.368347\n",
       "1         13.91           4.97            86.0625       0.376953\n",
       "2         13.90           4.96            86.0625       0.377991\n",
       "3         13.96           4.98            86.0000       0.365784\n",
       "4         13.98           4.99            86.0000       0.388855\n",
       "5         14.02           5.00            86.0000       0.376038\n",
       "6         14.03           5.01            85.8125       0.376038\n",
       "7         14.04           5.01            85.8125       0.370117\n",
       "8         14.07           5.02            85.9375       0.332458\n",
       "9         13.99           5.00            85.9375       0.332458"
      ]
     },
     "execution_count": 34,
     "metadata": {},
     "output_type": "execute_result"
    }
   ],
   "source": [
    "df"
   ]
  },
  {
   "cell_type": "code",
   "execution_count": null,
   "metadata": {},
   "outputs": [],
   "source": []
  }
 ],
 "metadata": {
  "kernelspec": {
   "display_name": "Python 3",
   "language": "python",
   "name": "python3"
  },
  "language_info": {
   "codemirror_mode": {
    "name": "ipython",
    "version": 3
   },
   "file_extension": ".py",
   "mimetype": "text/x-python",
   "name": "python",
   "nbconvert_exporter": "python",
   "pygments_lexer": "ipython3",
   "version": "3.8.10"
  },
  "orig_nbformat": 4,
  "vscode": {
   "interpreter": {
    "hash": "916dbcbb3f70747c44a77c7bcd40155683ae19c65e1c03b4aa3499c5328201f1"
   }
  }
 },
 "nbformat": 4,
 "nbformat_minor": 2
}
