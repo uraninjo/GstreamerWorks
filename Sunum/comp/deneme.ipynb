{
 "cells": [
  {
   "cell_type": "code",
   "execution_count": 74,
   "metadata": {},
   "outputs": [],
   "source": [
    "import os\n",
    "enc_prop_comp={\n",
    "    'cabac':['true','false'],\n",
    "    'dct8x8':['true','false'],\n",
    "    'interlaced':['true','false'],\n",
    "    'intra-refresh':['true','false'],\n",
    "}"
   ]
  },
  {
   "cell_type": "code",
   "execution_count": 83,
   "metadata": {},
   "outputs": [
    {
     "name": "stdout",
     "output_type": "stream",
     "text": [
      "Setting pipeline to PAUSED ...\n",
      "Pipeline is PREROLLING ...\n",
      "Redistribute latency...\n",
      "Redistribute latency...\n",
      "Redistribute latency...\n",
      "Pipeline is PREROLLED ...\n",
      "Setting pipeline to PLAYING ...\n",
      "New clock: GstSystemClock\n",
      "Got EOS from element \"pipeline0\".\n",
      "Execution ended after 0:00:11.592957850\n",
      "Setting pipeline to NULL ...\n",
      "Freeing pipeline ...\n",
      "Setting pipeline to PAUSED ...\n",
      "Pipeline is PREROLLING ...\n",
      "Redistribute latency...\n",
      "Redistribute latency...\n",
      "Redistribute latency...\n",
      "Pipeline is PREROLLED ...\n",
      "Setting pipeline to PLAYING ...\n",
      "New clock: GstSystemClock\n",
      "Got EOS from element \"pipeline0\".\n",
      "Execution ended after 0:00:11.921805417\n",
      "Setting pipeline to NULL ...\n",
      "Freeing pipeline ...\n",
      "Setting pipeline to PAUSED ...\n",
      "Pipeline is PREROLLING ...\n",
      "Redistribute latency...\n",
      "Redistribute latency...\n",
      "Redistribute latency...\n",
      "Pipeline is PREROLLED ...\n",
      "Setting pipeline to PLAYING ...\n",
      "New clock: GstSystemClock\n",
      "Got EOS from element \"pipeline0\".\n",
      "Execution ended after 0:00:13.127097671\n",
      "Setting pipeline to NULL ...\n",
      "Freeing pipeline ...\n",
      "Setting pipeline to PAUSED ...\n",
      "Pipeline is PREROLLING ...\n",
      "Redistribute latency...\n",
      "Redistribute latency...\n",
      "Redistribute latency...\n",
      "Pipeline is PREROLLED ...\n",
      "Setting pipeline to PLAYING ...\n",
      "New clock: GstSystemClock\n",
      "Got EOS from element \"pipeline0\".\n",
      "Execution ended after 0:00:12.150040750\n",
      "Setting pipeline to NULL ...\n",
      "Freeing pipeline ...\n",
      "Setting pipeline to PAUSED ...\n",
      "Pipeline is PREROLLING ...\n",
      "Redistribute latency...\n",
      "Redistribute latency...\n",
      "Redistribute latency...\n",
      "Pipeline is PREROLLED ...\n",
      "Setting pipeline to PLAYING ...\n",
      "New clock: GstSystemClock\n",
      "Got EOS from element \"pipeline0\".\n",
      "Execution ended after 0:00:13.128728934\n",
      "Setting pipeline to NULL ...\n",
      "Freeing pipeline ...\n",
      "Setting pipeline to PAUSED ...\n",
      "Pipeline is PREROLLING ...\n",
      "Redistribute latency...\n",
      "Redistribute latency...\n",
      "Redistribute latency...\n",
      "Pipeline is PREROLLED ...\n",
      "Setting pipeline to PLAYING ...\n",
      "New clock: GstSystemClock\n",
      "Got EOS from element \"pipeline0\".\n",
      "Execution ended after 0:00:13.149201048\n",
      "Setting pipeline to NULL ...\n",
      "Freeing pipeline ...\n",
      "Setting pipeline to PAUSED ...\n",
      "Pipeline is PREROLLING ...\n",
      "Redistribute latency...\n",
      "Redistribute latency...\n",
      "Redistribute latency...\n",
      "Pipeline is PREROLLED ...\n",
      "Setting pipeline to PLAYING ...\n",
      "New clock: GstSystemClock\n",
      "Got EOS from element \"pipeline0\".\n",
      "Execution ended after 0:00:09.569462612\n",
      "Setting pipeline to NULL ...\n",
      "Freeing pipeline ...\n",
      "Setting pipeline to PAUSED ...\n",
      "Pipeline is PREROLLING ...\n",
      "Redistribute latency...\n",
      "Redistribute latency...\n",
      "Redistribute latency...\n",
      "Pipeline is PREROLLED ...\n",
      "Setting pipeline to PLAYING ...\n",
      "New clock: GstSystemClock\n",
      "Got EOS from element \"pipeline0\".\n",
      "Execution ended after 0:00:13.117407209\n",
      "Setting pipeline to NULL ...\n",
      "Freeing pipeline ...\n"
     ]
    }
   ],
   "source": [
    "video_name=\"deneme.mp4\"\n",
    "results={'original':os.stat(video_name).st_size/(1024*1024)}\n",
    "for name,props in enc_prop_comp.items():\n",
    "    for prop in props:\n",
    "        os.system(f'gst-launch-1.0 filesrc location={video_name} ! qtdemux ! avdec_h264 ! x264enc {name}={prop} ! mp4mux ! filesink location=video.mp4')\n",
    "        results[f'{name}_{prop}']='{0:.3f} MegaBytes'.format(os.stat(\"video.mp4\").st_size/(1024*1024))\n"
   ]
  },
  {
   "cell_type": "code",
   "execution_count": 84,
   "metadata": {},
   "outputs": [
    {
     "data": {
      "text/plain": [
       "{'original': 23.33193016052246,\n",
       " 'cabac_true': '13.860 MegaBytes',\n",
       " 'cabac_false': '13.754 MegaBytes',\n",
       " 'dct8x8_true': '13.863 MegaBytes',\n",
       " 'dct8x8_false': '13.836 MegaBytes',\n",
       " 'interlaced_true': '13.863 MegaBytes',\n",
       " 'interlaced_false': '13.854 MegaBytes',\n",
       " 'intra-refresh_true': '13.759 MegaBytes',\n",
       " 'intra-refresh_false': '13.864 MegaBytes'}"
      ]
     },
     "execution_count": 84,
     "metadata": {},
     "output_type": "execute_result"
    }
   ],
   "source": [
    "results"
   ]
  },
  {
   "cell_type": "code",
   "execution_count": 85,
   "metadata": {},
   "outputs": [
    {
     "data": {
      "text/html": [
       "<div>\n",
       "<style scoped>\n",
       "    .dataframe tbody tr th:only-of-type {\n",
       "        vertical-align: middle;\n",
       "    }\n",
       "\n",
       "    .dataframe tbody tr th {\n",
       "        vertical-align: top;\n",
       "    }\n",
       "\n",
       "    .dataframe thead th {\n",
       "        text-align: right;\n",
       "    }\n",
       "</style>\n",
       "<table border=\"1\" class=\"dataframe\">\n",
       "  <thead>\n",
       "    <tr style=\"text-align: right;\">\n",
       "      <th></th>\n",
       "      <th>Ortalama 12sn</th>\n",
       "    </tr>\n",
       "  </thead>\n",
       "  <tbody>\n",
       "    <tr>\n",
       "      <th>original</th>\n",
       "      <td>23.33193</td>\n",
       "    </tr>\n",
       "    <tr>\n",
       "      <th>cabac_true</th>\n",
       "      <td>13.860 MegaBytes</td>\n",
       "    </tr>\n",
       "    <tr>\n",
       "      <th>cabac_false</th>\n",
       "      <td>13.754 MegaBytes</td>\n",
       "    </tr>\n",
       "    <tr>\n",
       "      <th>dct8x8_true</th>\n",
       "      <td>13.863 MegaBytes</td>\n",
       "    </tr>\n",
       "    <tr>\n",
       "      <th>dct8x8_false</th>\n",
       "      <td>13.836 MegaBytes</td>\n",
       "    </tr>\n",
       "    <tr>\n",
       "      <th>interlaced_true</th>\n",
       "      <td>13.863 MegaBytes</td>\n",
       "    </tr>\n",
       "    <tr>\n",
       "      <th>interlaced_false</th>\n",
       "      <td>13.854 MegaBytes</td>\n",
       "    </tr>\n",
       "    <tr>\n",
       "      <th>intra-refresh_true</th>\n",
       "      <td>13.759 MegaBytes</td>\n",
       "    </tr>\n",
       "    <tr>\n",
       "      <th>intra-refresh_false</th>\n",
       "      <td>13.864 MegaBytes</td>\n",
       "    </tr>\n",
       "  </tbody>\n",
       "</table>\n",
       "</div>"
      ],
      "text/plain": [
       "                        Ortalama 12sn\n",
       "original                     23.33193\n",
       "cabac_true           13.860 MegaBytes\n",
       "cabac_false          13.754 MegaBytes\n",
       "dct8x8_true          13.863 MegaBytes\n",
       "dct8x8_false         13.836 MegaBytes\n",
       "interlaced_true      13.863 MegaBytes\n",
       "interlaced_false     13.854 MegaBytes\n",
       "intra-refresh_true   13.759 MegaBytes\n",
       "intra-refresh_false  13.864 MegaBytes"
      ]
     },
     "execution_count": 85,
     "metadata": {},
     "output_type": "execute_result"
    }
   ],
   "source": [
    "import pandas as pd\n",
    "\n",
    "df=pd.DataFrame.from_dict(results,orient='index',columns=['Ortalama 12sn'])\n",
    "df\n"
   ]
  },
  {
   "cell_type": "code",
   "execution_count": null,
   "metadata": {},
   "outputs": [],
   "source": [
    "df.to_csv('')"
   ]
  },
  {
   "cell_type": "code",
   "execution_count": null,
   "metadata": {},
   "outputs": [],
   "source": []
  },
  {
   "cell_type": "code",
   "execution_count": null,
   "metadata": {},
   "outputs": [],
   "source": []
  },
  {
   "cell_type": "code",
   "execution_count": null,
   "metadata": {},
   "outputs": [],
   "source": [
    "add_enc_prop_comp={\n",
    "    'vbv-buffer-ca':['0','1000'], #default=600\n",
    "    'trellis':['true','false'],\n",
    "    'sync-lookahead':['100','250'], #default=-1\n",
    "    'quantizer':['0','50'], #def=21\n",
    "    'qp-min':['10','51'],#def=10\n",
    "    'qp-max':['10','51'],#def=51\n",
    "    'ip-factor':['0','2'],#def=1.4\n",
    "    'b-pyramid':['true','false']\n",
    "}"
   ]
  }
 ],
 "metadata": {
  "kernelspec": {
   "display_name": "Python 3",
   "language": "python",
   "name": "python3"
  },
  "language_info": {
   "codemirror_mode": {
    "name": "ipython",
    "version": 3
   },
   "file_extension": ".py",
   "mimetype": "text/x-python",
   "name": "python",
   "nbconvert_exporter": "python",
   "pygments_lexer": "ipython3",
   "version": "3.8.10"
  },
  "orig_nbformat": 4,
  "vscode": {
   "interpreter": {
    "hash": "916dbcbb3f70747c44a77c7bcd40155683ae19c65e1c03b4aa3499c5328201f1"
   }
  }
 },
 "nbformat": 4,
 "nbformat_minor": 2
}
