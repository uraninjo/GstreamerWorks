{
 "cells": [
  {
   "cell_type": "code",
   "execution_count": 6,
   "metadata": {},
   "outputs": [
    {
     "name": "stderr",
     "output_type": "stream",
     "text": [
      "/tmp/ipykernel_164812/2959565518.py:8: PyGIDeprecationWarning: Since version 3.11, calling threads_init is no longer needed. See: https://wiki.gnome.org/PyGObject/Threading\n",
      "  GObject.threads_init()\n"
     ]
    },
    {
     "name": "stdout",
     "output_type": "stream",
     "text": [
      "Pipeline state changed from null to ready.\n",
      "Received new pad 'src_0' from 'source':\n",
      "Received new pad 'src_1' from 'source':\n",
      "  It has type 'audio/x-raw, format=(string)F32LE, layout=(string)non-interleaved' which is not raw video. Ignoring.\n",
      "Pipeline state changed from ready to paused.\n",
      "Pipeline state changed from paused to playing.\n"
     ]
    },
    {
     "name": "stderr",
     "output_type": "stream",
     "text": [
      "Error received from element video-output-actual-sink-xvimage: gst-resource-error-quark: Output window was closed (3)\n",
      "Debugging information: xvimagesink.c(554): gst_xv_image_sink_handle_xevents (): /GstPipeline:test-pipeline/GstAutoVideoSink:video-output/GstXvImageSink:video-output-actual-sink-xvimage\n"
     ]
    }
   ],
   "source": [
    "import sys\n",
    "import gi\n",
    "\n",
    "gi.require_version('Gst', '1.0')\n",
    "gi.require_version('Gtk', '3.0')\n",
    "from gi.repository import GObject, Gst, Gtk\n",
    "\n",
    "GObject.threads_init()\n",
    "Gst.init(None)\n",
    "\n",
    "data = dict()\n",
    "\n",
    "\n",
    "# Handler for the pad-added signal\n",
    "\n",
    "\n",
    "def pad_added_handler(src, new_pad, dataPAD):\n",
    "    print(\"Received new pad '%s' from '%s':\" % (new_pad.get_name(),\n",
    "                                                src.get_name()))\n",
    "    \n",
    "    # If our converter is already linked, we have nothing to do here\n",
    "    if new_pad.is_linked():\n",
    "        print(\"We are already linked. Ignoring.\")\n",
    "        return\n",
    "\n",
    "    # Check the new pad's type\n",
    "    new_pad_type = new_pad.query_caps(None).to_string()\n",
    "\n",
    "    if not new_pad_type.startswith(\"video/x-raw\"):\n",
    "        print(\"  It has type '%s' which is not raw video. Ignoring.\" %\n",
    "              new_pad_type)\n",
    "        return\n",
    "    \n",
    "    ret = new_pad.link(dataPAD[\"convert\"].get_static_pad(\"sink\"))\n",
    "    # Attempt the link\n",
    "    \n",
    "    \n",
    "    return\n",
    "\n",
    "\n",
    "def main():\n",
    "    # Create the elements\n",
    "    data[\"source\"] = Gst.ElementFactory.make(\"uridecodebin\", \"source\")\n",
    "    data[\"convert\"] = Gst.ElementFactory.make(\"videoconvert\", \"convert\")\n",
    "    data[\"sink\"] = Gst.ElementFactory.make(\"autovideosink\", \"video-output\")\n",
    "\n",
    "    # Create the empty pipeline\n",
    "    pipeline = Gst.Pipeline.new(\"test-pipeline\")\n",
    "\n",
    "    if not data[\"source\"] or not data[\"convert\"] or not data[\"sink\"] or not pipeline:\n",
    "        print(\"Not all elements could be created.\", file=sys.stderr)\n",
    "        exit(-1)\n",
    "\n",
    "    # Build the pipeline\n",
    "    # Note that we are NOT linking the source at this point. We will do it later.\n",
    "    pipeline.add(data[\"source\"])\n",
    "    pipeline.add(data[\"convert\"])\n",
    "    pipeline.add(data[\"sink\"])\n",
    "    if not Gst.Element.link(data[\"convert\"], data[\"sink\"]):\n",
    "        print(\"Elements could not be linked.\", file=sys.stderr)\n",
    "        exit(-1)\n",
    "\n",
    "    # Set the URI to play\n",
    "    data[\"source\"].set_property(\n",
    "        \"uri\", \"file:///home/fkurt/Murat/ElephantsDream.mp4\")\n",
    "\n",
    "    # Connect to the pad-added signal\n",
    "    data[\"source\"].connect(\"pad-added\", pad_added_handler, data)\n",
    "\n",
    "    # Start playing\n",
    "    ret = pipeline.set_state(Gst.State.PLAYING)\n",
    "    if ret == Gst.StateChangeReturn.FAILURE:\n",
    "        print(\"Unable to set the pipeline to the playing state.\", file=sys.stderr)\n",
    "        exit(-1)\n",
    "\n",
    "    # Wait until error or EOS\n",
    "    bus = pipeline.get_bus()\n",
    "\n",
    "    # Parse message\n",
    "    while True:\n",
    "        message = bus.timed_pop_filtered(Gst.CLOCK_TIME_NONE,\n",
    "                                         Gst.MessageType.STATE_CHANGED | Gst.MessageType.ERROR | Gst.MessageType.EOS)\n",
    "        if message.type == Gst.MessageType.ERROR:\n",
    "            err, debug = message.parse_error()\n",
    "            print(\"Error received from element %s: %s\" % (\n",
    "                message.src.get_name(), err), file=sys.stderr)\n",
    "            print(\"Debugging information: %s\" % debug, file=sys.stderr)\n",
    "            break\n",
    "        elif message.type == Gst.MessageType.EOS:\n",
    "            print(\"End-Of-Stream reached.\")\n",
    "            break\n",
    "        elif message.type == Gst.MessageType.STATE_CHANGED:\n",
    "            if isinstance(message.src, Gst.Pipeline):\n",
    "                old_state, new_state, pending_state = message.parse_state_changed()\n",
    "                print(\"Pipeline state changed from %s to %s.\" %\n",
    "                      (old_state.value_nick, new_state.value_nick))\n",
    "        else:\n",
    "            print(\"Unexpected message received.\", file=sys.stderr)\n",
    "\n",
    "    # Free resources\n",
    "    pipeline.set_state(Gst.State.NULL)\n",
    "\n",
    "\n",
    "main()"
   ]
  },
  {
   "cell_type": "code",
   "execution_count": null,
   "metadata": {},
   "outputs": [],
   "source": []
  }
 ],
 "metadata": {
  "kernelspec": {
   "display_name": "Python 3.8.10 64-bit",
   "language": "python",
   "name": "python3"
  },
  "language_info": {
   "codemirror_mode": {
    "name": "ipython",
    "version": 3
   },
   "file_extension": ".py",
   "mimetype": "text/x-python",
   "name": "python",
   "nbconvert_exporter": "python",
   "pygments_lexer": "ipython3",
   "version": "3.8.10"
  },
  "orig_nbformat": 4,
  "vscode": {
   "interpreter": {
    "hash": "916dbcbb3f70747c44a77c7bcd40155683ae19c65e1c03b4aa3499c5328201f1"
   }
  }
 },
 "nbformat": 4,
 "nbformat_minor": 2
}
