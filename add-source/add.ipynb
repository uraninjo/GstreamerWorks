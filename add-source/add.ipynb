{
 "cells": [
  {
   "cell_type": "code",
   "execution_count": 1,
   "metadata": {},
   "outputs": [
    {
     "ename": "ModuleNotFoundError",
     "evalue": "No module named 'tools'",
     "output_type": "error",
     "traceback": [
      "\u001b[0;31m---------------------------------------------------------------------------\u001b[0m",
      "\u001b[0;31mModuleNotFoundError\u001b[0m                       Traceback (most recent call last)",
      "Cell \u001b[0;32mIn[1], line 4\u001b[0m\n\u001b[1;32m      1\u001b[0m \u001b[39mimport\u001b[39;00m \u001b[39mlogging\u001b[39;00m\n\u001b[1;32m      2\u001b[0m \u001b[39mfrom\u001b[39;00m \u001b[39mthreading\u001b[39;00m \u001b[39mimport\u001b[39;00m Thread, Event\n\u001b[0;32m----> 4\u001b[0m \u001b[39mfrom\u001b[39;00m \u001b[39mtools\u001b[39;00m\u001b[39m.\u001b[39;00m\u001b[39mapplication_init\u001b[39;00m \u001b[39mimport\u001b[39;00m application_init\n\u001b[1;32m      6\u001b[0m application_init()\n\u001b[1;32m      8\u001b[0m \u001b[39mfrom\u001b[39;00m \u001b[39mgi\u001b[39;00m\u001b[39m.\u001b[39;00m\u001b[39mrepository\u001b[39;00m \u001b[39mimport\u001b[39;00m Gst, GLib\n",
      "\u001b[0;31mModuleNotFoundError\u001b[0m: No module named 'tools'"
     ]
    }
   ],
   "source": [
    "import logging\n",
    "from threading import Thread, Event\n",
    "\n",
    "from tools.application_init import application_init\n",
    "\n",
    "application_init()\n",
    "\n",
    "from gi.repository import Gst, GLib\n",
    "from tools.logging_pad_probe import logging_pad_probe\n",
    "from tools.runner import Runner\n",
    "\n",
    "log = logging.getLogger(\"main\")\n",
    "\n",
    "log.info(\"building pipeline\")\n",
    "pipeline = Gst.Pipeline.new()\n",
    "caps = Gst.Caps.from_string(\"audio/x-raw,format=S16LE,rate=48000,channels=2\")\n",
    "\n",
    "testsrc1 = Gst.ElementFactory.make(\"audiotestsrc\", \"testsrc1\")\n",
    "testsrc1.set_property(\"is-live\", True)  # (3)\n",
    "testsrc1.set_property(\"freq\", 220)\n",
    "pipeline.add(testsrc1)\n",
    "\n",
    "mixer = Gst.ElementFactory.make(\"audiomixer\")\n",
    "pipeline.add(mixer)\n",
    "testsrc1.link_filtered(mixer, caps)\n",
    "\n",
    "sink = Gst.ElementFactory.make(\"autoaudiosink\")\n",
    "pipeline.add(sink)\n",
    "mixer.link_filtered(sink, caps)\n",
    "\n",
    "testsrc1.get_static_pad(\"src\").add_probe(\n",
    "    Gst.PadProbeType.BUFFER, logging_pad_probe, \"testsrc1-output\")\n",
    "\n",
    "mixer.get_static_pad(\"src\").add_probe(\n",
    "    Gst.PadProbeType.BUFFER, logging_pad_probe, \"mixer-output\")\n",
    "\n",
    "\n",
    "def add_new_src():\n",
    "    log.info(\"Adding testsrc2\")\n",
    "    testsrc2 = Gst.ElementFactory.make(\"audiotestsrc\", \"testsrc2\")\n",
    "    testsrc2.set_property(\"freq\", 440)\n",
    "    testsrc2.set_property(\"is-live\", True)  # (2)\n",
    "\n",
    "    testsrc2.get_static_pad(\"src\").add_probe(\n",
    "        Gst.PadProbeType.BUFFER, logging_pad_probe, \"testsrc2-output\")\n",
    "\n",
    "    pipeline.add(testsrc2)\n",
    "    testsrc2.link_filtered(mixer, caps)\n",
    "    testsrc2.sync_state_with_parent()  # (4)\n",
    "    log.info(\"Adding testsrc2 done\")\n",
    "\n",
    "\n",
    "stop_event = Event()\n",
    "\n",
    "\n",
    "def timed_sequence():\n",
    "    log.info(\"Starting Sequence\")\n",
    "    if stop_event.wait(2): return\n",
    "    GLib.idle_add(add_new_src)  # (1)\n",
    "    log.info(\"Sequence ended\")\n",
    "\n",
    "\n",
    "t = Thread(target=timed_sequence, name=\"Sequence\")\n",
    "t.start()\n",
    "\n",
    "runner = Runner(pipeline)\n",
    "runner.run_blocking()\n",
    "\n",
    "stop_event.set()\n",
    "t.join()"
   ]
  },
  {
   "cell_type": "code",
   "execution_count": null,
   "metadata": {},
   "outputs": [],
   "source": []
  }
 ],
 "metadata": {
  "kernelspec": {
   "display_name": "Python 3.8.10 64-bit",
   "language": "python",
   "name": "python3"
  },
  "language_info": {
   "codemirror_mode": {
    "name": "ipython",
    "version": 3
   },
   "file_extension": ".py",
   "mimetype": "text/x-python",
   "name": "python",
   "nbconvert_exporter": "python",
   "pygments_lexer": "ipython3",
   "version": "3.8.10"
  },
  "orig_nbformat": 4,
  "vscode": {
   "interpreter": {
    "hash": "916dbcbb3f70747c44a77c7bcd40155683ae19c65e1c03b4aa3499c5328201f1"
   }
  }
 },
 "nbformat": 4,
 "nbformat_minor": 2
}
