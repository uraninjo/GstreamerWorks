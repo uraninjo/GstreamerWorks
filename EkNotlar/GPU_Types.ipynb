{
 "cells": [
  {
   "attachments": {},
   "cell_type": "markdown",
   "metadata": {},
   "source": [
    "# GPU Types\n",
    "\n",
    "* Register file\n",
    "* Shared Memory\n",
    "* Constant Memory\n",
    "* Texture Memory\n",
    "* Local Memory and Global Memory"
   ]
  },
  {
   "attachments": {},
   "cell_type": "markdown",
   "metadata": {},
   "source": [
    "* Data stored in **register memory** is visible only to the thread that wrote it and lasts only for the lifetime of that thread.\n",
    "* **Local memory** has the same scope rules as register memory, but performs slower.\n",
    "* Data stored in **shared memory** is visible to all threads within that block and lasts for the duration of the block. This is invaluable because this type of memory allows for threads to communicate and share data between one another.\n",
    "* Data stored in **global memory** is visible to all threads within the application (including the host), and lasts for the duration of the host allocation.\n",
    "* Constant and texture memory won’t be used here because they are beneficial for only very specific types of applications. **Constant memory** is used for data that will not change over the course of a kernel execution and is read only. Using constant rather than global memory can reduce the required memory bandwidth, however, this performance gain can only be realized when a warp of threads read the same location.Similar to constant memory, **texture memory** is another variety of read-only memory on the device. When all reads in a warp are physically adjacent, using texture memory can reduce memory traffic and increase performance compared to global memory."
   ]
  },
  {
   "cell_type": "markdown",
   "metadata": {},
   "source": []
  },
  {
   "cell_type": "markdown",
   "metadata": {},
   "source": []
  },
  {
   "cell_type": "markdown",
   "metadata": {},
   "source": []
  }
 ],
 "metadata": {
  "language_info": {
   "name": "python"
  },
  "orig_nbformat": 4
 },
 "nbformat": 4,
 "nbformat_minor": 2
}
