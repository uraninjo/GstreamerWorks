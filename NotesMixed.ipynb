{
 "cells": [
  {
   "cell_type": "code",
   "execution_count": null,
   "metadata": {},
   "outputs": [],
   "source": [
    "sudo apt-get install gstreamer1.0-tools gstreamer1.0-plugins-base  gstreamer1.0-plugins-good  gstreamer1.0-plugins-bad  gstreamer1.0-plugins-ugly "
   ]
  },
  {
   "cell_type": "markdown",
   "metadata": {},
   "source": [
    "### Kendi kameramdan görüntü almak istiyorsam,  \n",
    "gst-launch-1.0 v4l2src device=\"/dev/video0\" ! videoconvert ! autovideosink \n",
    "\n",
    "\n",
    "### Saat Ekliyor, \n",
    "gst-launch-1.0 v4l2src device=\"/dev/video0\" ! videoconvert ! clockoverlay ! autovideosink \n",
    "\n",
    "\n",
    "### Ekranları alıyor, \n",
    "gst-launch-1.0 ximagesrc ! videoconvert ! clockoverlay ! autovideosink \n",
    "\n",
    "\n",
    "### RTSP Görüntüsü Alıyor, \n",
    "gst-launch-1.0 rtspsrc location=\"rtsp://freja.hiof.no:1935/rtplive/_definst_/hessdalen03.stream\" ! \\ \n",
    "rtph264depay ! avdec_h264 ! clockoverlay ! Autovideosink \n",
    "\n",
    "\n"
   ]
  },
  {
   "cell_type": "markdown",
   "metadata": {},
   "source": [
    "### Kamera Görüntüsünü HLS Protokolüyle Kaydediyor ve Yayınlıyor, \n",
    "gst-launch-1.0 v4l2src device=\"/dev/video0\" ! videoconvert ! clockoverlay ! x264enc tune=zerolatency ! mpegtsmux ! hlssink playlist-root=http://192.168.1.28:8080 location=/home/uraninjo/Masaüstü/Gstreamer/Siteler/hlstest/segment_%05d.ts target-duration=5 max-files=5\n",
    "\n",
    "python3 -m http.server 8080 \n",
    "\n",
    "Index.html oluşturduktan sonra görüntüye ulaşılabilir, \n",
    "http://192.168.1.28:8080/index.html \n",
    "\n",
    "\n",
    "#### Daha Optimize Hali, \n",
    "gst-launch-1.0 -v v4l2src device=\"/dev/video0\" ! videoconvert ! clockoverlay ! videoscale ! video/x-raw,width=640, height=360 ! x264enc bitrate=256 ! video/x-h264,profile=\"high\" ! mpegtsmux ! hlssink playlist-root=http://192.168.1.28:8080 location=segment_%05d.ts target-duration=5 max-files=5 \n",
    "\n",
    "\n",
    "https://z25.org/static/_rd_/videostreaming_intro_plab/index.html \n",
    "\n",
    "\n"
   ]
  },
  {
   "cell_type": "markdown",
   "metadata": {},
   "source": [
    "### UDP_RTP, \n",
    "Sender: \n",
    "gst-launch-1.0 videotestsrc !  jpegenc !  rtpjpegpay !  udpsink host=127.0.0.1 port=5200 \n",
    "\n",
    "### Reciever: \n",
    "gst-launch-1.0 udpsrc port=5200 ! application/x-rtp,  encoding-name=JPEG,payload=26 !  \n",
    "rtpjpegdepay ! \n",
    "jpegdec !  autovideosink "
   ]
  }
 ],
 "metadata": {
  "kernelspec": {
   "display_name": "Python 3.8.10 64-bit",
   "language": "python",
   "name": "python3"
  },
  "language_info": {
   "codemirror_mode": {
    "name": "ipython",
    "version": 3
   },
   "file_extension": ".py",
   "mimetype": "text/x-python",
   "name": "python",
   "nbconvert_exporter": "python",
   "pygments_lexer": "ipython3",
   "version": "3.8.10"
  },
  "orig_nbformat": 4,
  "vscode": {
   "interpreter": {
    "hash": "916dbcbb3f70747c44a77c7bcd40155683ae19c65e1c03b4aa3499c5328201f1"
   }
  }
 },
 "nbformat": 4,
 "nbformat_minor": 2
}
